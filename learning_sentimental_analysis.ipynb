{
  "nbformat": 4,
  "nbformat_minor": 0,
  "metadata": {
    "kernelspec": {
      "display_name": "Python 3",
      "language": "python",
      "name": "python3"
    },
    "language_info": {
      "codemirror_mode": {
        "name": "ipython",
        "version": 3
      },
      "file_extension": ".py",
      "mimetype": "text/x-python",
      "name": "python",
      "nbconvert_exporter": "python",
      "pygments_lexer": "ipython3",
      "version": "3.7.3"
    },
    "colab": {
      "name": "learning sentimental analysis.ipynb",
      "provenance": [],
      "collapsed_sections": []
    }
  },
  "cells": [
    {
      "cell_type": "code",
      "metadata": {
        "id": "tJ9jD3XfMbja",
        "colab_type": "code",
        "colab": {}
      },
      "source": [
        "#DOESNT GET RUN IN JUPYTER NOTEBOOK\n",
        "#get sentiment from website\n",
        "pip install newspaper3k"
      ],
      "execution_count": 0,
      "outputs": []
    },
    {
      "cell_type": "code",
      "metadata": {
        "id": "Ls1y3b1HMbjs",
        "colab_type": "code",
        "colab": {}
      },
      "source": [
        "from textblob import TextBlob\n",
        "import nltk \n",
        "from newspaper import Article"
      ],
      "execution_count": 0,
      "outputs": []
    },
    {
      "cell_type": "code",
      "metadata": {
        "id": "m80n2PkaMbjz",
        "colab_type": "code",
        "colab": {}
      },
      "source": [
        "#geting the article\n",
        "url = 'https://everythingcomputerscience.com'\n",
        "article = Article(url)"
      ],
      "execution_count": 0,
      "outputs": []
    },
    {
      "cell_type": "code",
      "metadata": {
        "id": "Uv2TCYWMNyq5",
        "colab_type": "code",
        "colab": {}
      },
      "source": [
        "#do some NLP\n",
        "article.download()\n",
        "article.parse()\n"
      ],
      "execution_count": 0,
      "outputs": []
    },
    {
      "cell_type": "code",
      "metadata": {
        "id": "k53ymCjoOGnu",
        "colab_type": "code",
        "outputId": "21a3d02f-0f16-489a-d283-a2ff472285f0",
        "colab": {
          "base_uri": "https://localhost:8080/",
          "height": 69
        }
      },
      "source": [
        "nltk.download('punkt')"
      ],
      "execution_count": 0,
      "outputs": [
        {
          "output_type": "stream",
          "text": [
            "[nltk_data] Downloading package punkt to /root/nltk_data...\n",
            "[nltk_data]   Unzipping tokenizers/punkt.zip.\n"
          ],
          "name": "stdout"
        },
        {
          "output_type": "execute_result",
          "data": {
            "text/plain": [
              "True"
            ]
          },
          "metadata": {
            "tags": []
          },
          "execution_count": 11
        }
      ]
    },
    {
      "cell_type": "code",
      "metadata": {
        "id": "d3MsAwLpOjG0",
        "colab_type": "code",
        "colab": {}
      },
      "source": [
        "article.nlp()"
      ],
      "execution_count": 0,
      "outputs": []
    },
    {
      "cell_type": "code",
      "metadata": {
        "id": "KqqAt3vlOsmQ",
        "colab_type": "code",
        "outputId": "e3ba309d-b5d7-422b-cba1-5399ad0305f0",
        "colab": {
          "base_uri": "https://localhost:8080/",
          "height": 107
        }
      },
      "source": [
        "# get the summary of the article\n",
        "text = article.summary\n",
        "\n",
        "#print the summary\n",
        "print(text)"
      ],
      "execution_count": 0,
      "outputs": [
        {
          "output_type": "stream",
          "text": [
            "Computer Science (CS)Computer Science (CS) is the study of the principles and use of computers.\n",
            "Simply put it's the science that deals with the theory and methods of processing information in digital computers, the design of computer hardware and software, and the applications of computers.\n",
            "A computer is simply a tool for a computer scientist, like a telescope for an astronomer.\n",
            "Teach yourself !\n"
          ],
          "name": "stdout"
        }
      ]
    },
    {
      "cell_type": "code",
      "metadata": {
        "id": "J3MLce6bPEo_",
        "colab_type": "code",
        "colab": {}
      },
      "source": [
        "#create a textBlob object\n",
        "obj = TextBlob(text) "
      ],
      "execution_count": 0,
      "outputs": []
    },
    {
      "cell_type": "code",
      "metadata": {
        "id": "BsJXn3_GPzxR",
        "colab_type": "code",
        "colab": {}
      },
      "source": [
        "#this return a value of -1 and 1v value return is zero means the sentiment is neutral\n",
        "sentiment = obj.sentiment.polarity"
      ],
      "execution_count": 0,
      "outputs": []
    },
    {
      "cell_type": "code",
      "metadata": {
        "id": "Wn4zG1VQP8D5",
        "colab_type": "code",
        "outputId": "bf77886b-0651-41c5-d0c9-4d40cdacf2e0",
        "colab": {
          "base_uri": "https://localhost:8080/",
          "height": 35
        }
      },
      "source": [
        "print(sentiment)"
      ],
      "execution_count": 0,
      "outputs": [
        {
          "output_type": "stream",
          "text": [
            "0.0\n"
          ],
          "name": "stdout"
        }
      ]
    },
    {
      "cell_type": "code",
      "metadata": {
        "id": "mdCmVtPnQe7t",
        "colab_type": "code",
        "outputId": "5b838f64-dcee-43d5-e452-68ea24f35ad9",
        "colab": {
          "base_uri": "https://localhost:8080/",
          "height": 35
        }
      },
      "source": [
        "if sentiment == 0:\n",
        "  print('the text is neutral')\n",
        "elif sentiment >0:\n",
        "  print('the text is positive')\n",
        "else:\n",
        "  print('the text is negative')"
      ],
      "execution_count": 0,
      "outputs": [
        {
          "output_type": "stream",
          "text": [
            "the text is neutral\n"
          ],
          "name": "stdout"
        }
      ]
    },
    {
      "cell_type": "code",
      "metadata": {
        "id": "yrDaRxS8yCM7",
        "colab_type": "code",
        "colab": {}
      },
      "source": [
        "# real code starts from here"
      ],
      "execution_count": 0,
      "outputs": []
    },
    {
      "cell_type": "code",
      "metadata": {
        "id": "FwzbkNubQyo8",
        "colab_type": "code",
        "colab": {}
      },
      "source": [
        "import os\n",
        "import nltk\n",
        "import nltk.corpus\n",
        "import csv\n",
        "import pandas as pd\n",
        "import numpy as np"
      ],
      "execution_count": 0,
      "outputs": []
    },
    {
      "cell_type": "code",
      "metadata": {
        "id": "K2m8S804Rufr",
        "colab_type": "code",
        "outputId": "d4fab1b1-e676-4141-95ff-3e05868c1ee9",
        "colab": {
          "base_uri": "https://localhost:8080/",
          "height": 499
        }
      },
      "source": [
        "# new way to read the file directly\n",
        "\n",
        "url = 'https://s3.amazonaws.com/amazon-reviews-pds/tsv/amazon_reviews_us_Shoes_v1_00.tsv.gz'\n",
        "df = pd.read_csv(url,  delimiter='\\t', error_bad_lines=False, low_memory=False, nrows=2000)\n",
        "\n",
        "df.head(5)"
      ],
      "execution_count": 0,
      "outputs": [
        {
          "output_type": "execute_result",
          "data": {
            "text/html": [
              "<div>\n",
              "<style scoped>\n",
              "    .dataframe tbody tr th:only-of-type {\n",
              "        vertical-align: middle;\n",
              "    }\n",
              "\n",
              "    .dataframe tbody tr th {\n",
              "        vertical-align: top;\n",
              "    }\n",
              "\n",
              "    .dataframe thead th {\n",
              "        text-align: right;\n",
              "    }\n",
              "</style>\n",
              "<table border=\"1\" class=\"dataframe\">\n",
              "  <thead>\n",
              "    <tr style=\"text-align: right;\">\n",
              "      <th></th>\n",
              "      <th>marketplace</th>\n",
              "      <th>customer_id</th>\n",
              "      <th>review_id</th>\n",
              "      <th>product_id</th>\n",
              "      <th>product_parent</th>\n",
              "      <th>product_title</th>\n",
              "      <th>product_category</th>\n",
              "      <th>star_rating</th>\n",
              "      <th>helpful_votes</th>\n",
              "      <th>total_votes</th>\n",
              "      <th>vine</th>\n",
              "      <th>verified_purchase</th>\n",
              "      <th>review_headline</th>\n",
              "      <th>review_body</th>\n",
              "      <th>review_date</th>\n",
              "    </tr>\n",
              "  </thead>\n",
              "  <tbody>\n",
              "    <tr>\n",
              "      <th>0</th>\n",
              "      <td>US</td>\n",
              "      <td>18069663</td>\n",
              "      <td>R3P2HIOQCIN5ZU</td>\n",
              "      <td>B000XB31C0</td>\n",
              "      <td>265024781</td>\n",
              "      <td>Minnetonka Men's Double Deerskin Softsole Mocc...</td>\n",
              "      <td>Shoes</td>\n",
              "      <td>1</td>\n",
              "      <td>0</td>\n",
              "      <td>0</td>\n",
              "      <td>N</td>\n",
              "      <td>Y</td>\n",
              "      <td>.</td>\n",
              "      <td>Do not buy: really didn't start to wear them u...</td>\n",
              "      <td>2015-08-31</td>\n",
              "    </tr>\n",
              "    <tr>\n",
              "      <th>1</th>\n",
              "      <td>US</td>\n",
              "      <td>16251825</td>\n",
              "      <td>R12VVR0WH5Q24V</td>\n",
              "      <td>B00CFYZH5W</td>\n",
              "      <td>259035853</td>\n",
              "      <td>Teva Men's Pajaro Flip-Flop</td>\n",
              "      <td>Shoes</td>\n",
              "      <td>5</td>\n",
              "      <td>0</td>\n",
              "      <td>0</td>\n",
              "      <td>N</td>\n",
              "      <td>Y</td>\n",
              "      <td>super flip flop</td>\n",
              "      <td>provides great cushion as well as archsupport</td>\n",
              "      <td>2015-08-31</td>\n",
              "    </tr>\n",
              "    <tr>\n",
              "      <th>2</th>\n",
              "      <td>US</td>\n",
              "      <td>20381037</td>\n",
              "      <td>RNCCKB6TV5EEF</td>\n",
              "      <td>B00S8JNN3Q</td>\n",
              "      <td>666066660</td>\n",
              "      <td>Anne Klein Perfect Pair Wristlet</td>\n",
              "      <td>Shoes</td>\n",
              "      <td>4</td>\n",
              "      <td>0</td>\n",
              "      <td>0</td>\n",
              "      <td>N</td>\n",
              "      <td>Y</td>\n",
              "      <td>Great clutch purse!</td>\n",
              "      <td>It's perfect if you need something small for c...</td>\n",
              "      <td>2015-08-31</td>\n",
              "    </tr>\n",
              "    <tr>\n",
              "      <th>3</th>\n",
              "      <td>US</td>\n",
              "      <td>108364</td>\n",
              "      <td>R2NZXYIVCGB13W</td>\n",
              "      <td>B00XFBPOQG</td>\n",
              "      <td>448483263</td>\n",
              "      <td>adidas Men's 10K Lifestyle Runner Sneaker</td>\n",
              "      <td>Shoes</td>\n",
              "      <td>5</td>\n",
              "      <td>0</td>\n",
              "      <td>6</td>\n",
              "      <td>N</td>\n",
              "      <td>Y</td>\n",
              "      <td>Badass</td>\n",
              "      <td>Getting what u see</td>\n",
              "      <td>2015-08-31</td>\n",
              "    </tr>\n",
              "    <tr>\n",
              "      <th>4</th>\n",
              "      <td>US</td>\n",
              "      <td>45449350</td>\n",
              "      <td>R2EQ1TG9IT3OEQ</td>\n",
              "      <td>B00SW64Y9W</td>\n",
              "      <td>7853171</td>\n",
              "      <td>OverBling Sneakers for Men Casual Men Shoes Ge...</td>\n",
              "      <td>Shoes</td>\n",
              "      <td>3</td>\n",
              "      <td>0</td>\n",
              "      <td>0</td>\n",
              "      <td>N</td>\n",
              "      <td>Y</td>\n",
              "      <td>Three Stars</td>\n",
              "      <td>small</td>\n",
              "      <td>2015-08-31</td>\n",
              "    </tr>\n",
              "  </tbody>\n",
              "</table>\n",
              "</div>"
            ],
            "text/plain": [
              "  marketplace  ...  review_date\n",
              "0          US  ...   2015-08-31\n",
              "1          US  ...   2015-08-31\n",
              "2          US  ...   2015-08-31\n",
              "3          US  ...   2015-08-31\n",
              "4          US  ...   2015-08-31\n",
              "\n",
              "[5 rows x 15 columns]"
            ]
          },
          "metadata": {
            "tags": []
          },
          "execution_count": 5
        }
      ]
    },
    {
      "cell_type": "markdown",
      "metadata": {
        "id": "dnM0oNNeVlyI",
        "colab_type": "text"
      },
      "source": [
        ""
      ]
    },
    {
      "cell_type": "code",
      "metadata": {
        "id": "Hyq-WUzSRvpW",
        "colab_type": "code",
        "colab": {}
      },
      "source": [
        "reviews=[]\n",
        "product_title=[]\n",
        "product_category=[]\n",
        "for i in range(0,2000):\n",
        "    reviews.append(df.iloc[i]['review_body'])\n",
        "    product_title.append(df.iloc[i]['product_title'])\n",
        "    product_category.append(df.iloc[i]['product_category'])"
      ],
      "execution_count": 0,
      "outputs": []
    },
    {
      "cell_type": "code",
      "metadata": {
        "id": "1pDSSpZ5YKDz",
        "colab_type": "code",
        "colab": {}
      },
      "source": [
        "reviews"
      ],
      "execution_count": 0,
      "outputs": []
    },
    {
      "cell_type": "code",
      "metadata": {
        "id": "f0cd75lDYMsY",
        "colab_type": "code",
        "colab": {}
      },
      "source": [
        "product_category"
      ],
      "execution_count": 0,
      "outputs": []
    },
    {
      "cell_type": "code",
      "metadata": {
        "id": "3hPjOpUaYTNz",
        "colab_type": "code",
        "colab": {}
      },
      "source": [
        "from nltk.tokenize import word_tokenize\n",
        "review_tokens=[]\n",
        "for words in reviews:\n",
        "    review_tokens.append(word_tokenize(words))\n",
        "review_tokens"
      ],
      "execution_count": 0,
      "outputs": []
    },
    {
      "cell_type": "code",
      "metadata": {
        "id": "wZrFnzRXYnLY",
        "colab_type": "code",
        "colab": {}
      },
      "source": [
        "review_tokens[13]"
      ],
      "execution_count": 0,
      "outputs": []
    },
    {
      "cell_type": "code",
      "metadata": {
        "id": "0LTWQKeIcoNo",
        "colab_type": "code",
        "colab": {}
      },
      "source": [
        "from textblob import TextBlob\n",
        "import nltk \n",
        "from newspaper import Article"
      ],
      "execution_count": 0,
      "outputs": []
    },
    {
      "cell_type": "code",
      "metadata": {
        "id": "1h2nB8O4juN6",
        "colab_type": "code",
        "colab": {}
      },
      "source": [
        "review_sentimental=[]\n",
        "i=0\n",
        "for words in reviews:\n",
        "    # review_tokens.append(word_tokenize(words))\n",
        "    oentiment = obj.sentiment.polarity\n",
        "    review_sentimental.append(sentiment)\n",
        "    print(str(i) +'\\treview: ' +reviews[i] + '\\tsentiment score:' + str(review_sentimental[i]))\n",
        "    i=i+1bj = TextBlob(words) \n"
      ],
      "execution_count": 0,
      "outputs": []
    },
    {
      "cell_type": "code",
      "metadata": {
        "id": "e_9a4xgPpCrA",
        "colab_type": "code",
        "colab": {}
      },
      "source": [
        "reviews"
      ],
      "execution_count": 0,
      "outputs": []
    },
    {
      "cell_type": "code",
      "metadata": {
        "id": "El16Db-lpI5z",
        "colab_type": "code",
        "colab": {}
      },
      "source": [
        "review_sentimental"
      ],
      "execution_count": 0,
      "outputs": []
    },
    {
      "cell_type": "code",
      "metadata": {
        "id": "8Rn8iYMQm-IC",
        "colab_type": "code",
        "colab": {}
      },
      "source": [
        "from pandas import DataFrame\n",
        "from pandas import concat\n",
        "import pandas as pd"
      ],
      "execution_count": 0,
      "outputs": []
    },
    {
      "cell_type": "code",
      "metadata": {
        "colab_type": "code",
        "id": "1Xa-YAF8ymux",
        "colab": {}
      },
      "source": [
        "ReviewsDF = pd.DataFrame(reviews)\n",
        "ReviewSentimentDF = pd.DataFrame(review_sentimental)"
      ],
      "execution_count": 0,
      "outputs": []
    },
    {
      "cell_type": "code",
      "metadata": {
        "id": "hNMX8dJ3wOkf",
        "colab_type": "code",
        "colab": {}
      },
      "source": [
        "df_merged = ReviewsDF.merge(ReviewSentimentDF, how='outer', left_index=True, right_index=True)\n",
        "df_merged.columns = ['REVIEWS','SENTI_SCORE']"
      ],
      "execution_count": 0,
      "outputs": []
    },
    {
      "cell_type": "code",
      "metadata": {
        "id": "fmZBsam8xisq",
        "colab_type": "code",
        "colab": {}
      },
      "source": [
        "# sentimental analysis score\n",
        "df_merged"
      ],
      "execution_count": 0,
      "outputs": []
    },
    {
      "cell_type": "code",
      "metadata": {
        "id": "bmACb1GdnEBu",
        "colab_type": "code",
        "colab": {}
      },
      "source": [
        "print(df_merged.ix[36])"
      ],
      "execution_count": 0,
      "outputs": []
    },
    {
      "cell_type": "code",
      "metadata": {
        "id": "tQ9kZMbRC1pm",
        "colab_type": "code",
        "colab": {}
      },
      "source": [
        "reviews[36]"
      ],
      "execution_count": 0,
      "outputs": []
    },
    {
      "cell_type": "code",
      "metadata": {
        "id": "FBJLwAC3p5ba",
        "colab_type": "code",
        "colab": {}
      },
      "source": [
        "from textblob import TextBlob\n",
        "import nltk \n",
        "from newspaper import Article"
      ],
      "execution_count": 0,
      "outputs": []
    },
    {
      "cell_type": "code",
      "metadata": {
        "id": "RtEgMeaiEVIb",
        "colab_type": "code",
        "colab": {}
      },
      "source": [
        "# trying out TF-IDF"
      ],
      "execution_count": 0,
      "outputs": []
    },
    {
      "cell_type": "code",
      "metadata": {
        "id": "PkqhUBYzMxFI",
        "colab_type": "code",
        "colab": {
          "base_uri": "https://localhost:8080/",
          "height": 35
        },
        "outputId": "d217b0fb-16ef-4a11-ac6a-9000305a9443"
      },
      "source": [
        "review_tokens[3]   # tokenize is Bag of words"
      ],
      "execution_count": 45,
      "outputs": [
        {
          "output_type": "execute_result",
          "data": {
            "text/plain": [
              "['Getting', 'what', 'u', 'see']"
            ]
          },
          "metadata": {
            "tags": []
          },
          "execution_count": 45
        }
      ]
    },
    {
      "cell_type": "code",
      "metadata": {
        "id": "TOiuWDjwM1yc",
        "colab_type": "code",
        "colab": {}
      },
      "source": [
        "len(review_tokens[20])"
      ],
      "execution_count": 0,
      "outputs": []
    },
    {
      "cell_type": "code",
      "metadata": {
        "id": "YjvcxPvFSwr8",
        "colab_type": "code",
        "colab": {}
      },
      "source": [
        "for sen  in review_tokens:\n",
        "  for word in sen:\n",
        "    print(word)"
      ],
      "execution_count": 0,
      "outputs": []
    },
    {
      "cell_type": "code",
      "metadata": {
        "id": "i1i_GV5FNSmW",
        "colab_type": "code",
        "colab": {}
      },
      "source": [
        "review_tokens[20]"
      ],
      "execution_count": 0,
      "outputs": []
    },
    {
      "cell_type": "code",
      "metadata": {
        "id": "wq0JvmHeO4mY",
        "colab_type": "code",
        "colab": {}
      },
      "source": [
        "from nltk.probability import FreqDist\n",
        "fdlist = FreqDist()"
      ],
      "execution_count": 0,
      "outputs": []
    },
    {
      "cell_type": "code",
      "metadata": {
        "id": "z-w87a47O_Bs",
        "colab_type": "code",
        "colab": {
          "base_uri": "https://localhost:8080/",
          "height": 191
        },
        "outputId": "e9a47276-0c6e-4996-97d6-d829523c8570"
      },
      "source": [
        "for sen  in review_tokens:\n",
        "  for word in sen:\n",
        "    fdlist[word.lower()]+=1\n",
        "\n",
        "# fdlist\n",
        "\n",
        "fdlist_top10 = fdlist.most_common(10)\n",
        "fdlist_top10"
      ],
      "execution_count": 113,
      "outputs": [
        {
          "output_type": "execute_result",
          "data": {
            "text/plain": [
              "[('i', 20022),\n",
              " ('the', 17879),\n",
              " ('.', 14612),\n",
              " ('and', 13059),\n",
              " ('a', 11054),\n",
              " ('to', 8431),\n",
              " ('they', 8043),\n",
              " ('for', 6923),\n",
              " ('these', 6391),\n",
              " (',', 6384)]"
            ]
          },
          "metadata": {
            "tags": []
          },
          "execution_count": 113
        }
      ]
    },
    {
      "cell_type": "code",
      "metadata": {
        "id": "_77AWRYeUh-b",
        "colab_type": "code",
        "colab": {}
      },
      "source": [
        "from nltk.corpus import stopwords\n",
        "import re\n",
        "punctuation = re.compile(r'[-.!,:;()!|0-9]')"
      ],
      "execution_count": 0,
      "outputs": []
    },
    {
      "cell_type": "code",
      "metadata": {
        "id": "TlW74aaXU1o2",
        "colab_type": "code",
        "colab": {}
      },
      "source": [
        "post_punctuation = []\n",
        "for sen  in review_tokens:\n",
        "  for words in sen:\n",
        "    word=punctuation.sub(\"\",words)\n",
        "    if len(word)> 0:\n",
        "        post_punctuation.append(word)"
      ],
      "execution_count": 0,
      "outputs": []
    },
    {
      "cell_type": "code",
      "metadata": {
        "id": "RkuHl77iVEGz",
        "colab_type": "code",
        "colab": {}
      },
      "source": [
        "post_punctuation"
      ],
      "execution_count": 0,
      "outputs": []
    },
    {
      "cell_type": "code",
      "metadata": {
        "id": "uWecdjOAVgov",
        "colab_type": "code",
        "colab": {
          "base_uri": "https://localhost:8080/",
          "height": 191
        },
        "outputId": "181cccd1-700a-4d3d-9544-a012c1849b5b"
      },
      "source": [
        "from nltk.probability import FreqDist\n",
        "flag = FreqDist()\n",
        "\n",
        "for words  in post_punctuation:\n",
        "    flag[words.lower()]+=1\n",
        "\n",
        "fdlist_top10 = flag.most_common(10)\n",
        "fdlist_top10"
      ],
      "execution_count": 128,
      "outputs": [
        {
          "output_type": "execute_result",
          "data": {
            "text/plain": [
              "[('i', 2504),\n",
              " ('the', 2236),\n",
              " ('and', 1633),\n",
              " ('a', 1382),\n",
              " ('to', 1054),\n",
              " ('they', 1007),\n",
              " ('for', 866),\n",
              " ('these', 799),\n",
              " ('my', 770),\n",
              " ('them', 758)]"
            ]
          },
          "metadata": {
            "tags": []
          },
          "execution_count": 128
        }
      ]
    },
    {
      "cell_type": "code",
      "metadata": {
        "id": "Hla16gdEaSfe",
        "colab_type": "code",
        "colab": {
          "base_uri": "https://localhost:8080/",
          "height": 191
        },
        "outputId": "72833324-8015-42dd-c236-2986619e5031"
      },
      "source": [
        "fdlist_top10"
      ],
      "execution_count": 129,
      "outputs": [
        {
          "output_type": "execute_result",
          "data": {
            "text/plain": [
              "[('i', 2504),\n",
              " ('the', 2236),\n",
              " ('and', 1633),\n",
              " ('a', 1382),\n",
              " ('to', 1054),\n",
              " ('they', 1007),\n",
              " ('for', 866),\n",
              " ('these', 799),\n",
              " ('my', 770),\n",
              " ('them', 758)]"
            ]
          },
          "metadata": {
            "tags": []
          },
          "execution_count": 129
        }
      ]
    },
    {
      "cell_type": "code",
      "metadata": {
        "id": "rfXokLwdWzLh",
        "colab_type": "code",
        "colab": {}
      },
      "source": [
        "wordSet = set(post_punctuation)"
      ],
      "execution_count": 0,
      "outputs": []
    },
    {
      "cell_type": "code",
      "metadata": {
        "id": "qF1ZgcG3Y7t_",
        "colab_type": "code",
        "colab": {
          "base_uri": "https://localhost:8080/",
          "height": 35
        },
        "outputId": "4d089e77-3c9c-47ae-a0ad-64ce0791ac69"
      },
      "source": [
        "from nltk.probability import FreqDist\n",
        "count = FreqDist()\n",
        "\n",
        "for words  in wordSet:\n",
        "    count[words.lower()]+=1\n",
        "\n",
        "fdlist_top10 = count.most_common(3)\n",
        "fdlist_top10"
      ],
      "execution_count": 133,
      "outputs": [
        {
          "output_type": "execute_result",
          "data": {
            "text/plain": [
              "[('love', 5), ('will', 4), ('but', 3)]"
            ]
          },
          "metadata": {
            "tags": []
          },
          "execution_count": 133
        }
      ]
    },
    {
      "cell_type": "code",
      "metadata": {
        "id": "_-Qctajoaxq9",
        "colab_type": "code",
        "colab": {}
      },
      "source": [
        "wordDict = dict.fromkeys(wordSet, 0)"
      ],
      "execution_count": 0,
      "outputs": []
    },
    {
      "cell_type": "code",
      "metadata": {
        "id": "xITdo9vhdYS9",
        "colab_type": "code",
        "colab": {
          "base_uri": "https://localhost:8080/",
          "height": 1000
        },
        "outputId": "0f488e15-93f2-40c1-8d3d-4cd939f46d48"
      },
      "source": [
        "wordDict"
      ],
      "execution_count": 138,
      "outputs": [
        {
          "output_type": "execute_result",
          "data": {
            "text/plain": [
              "{'European': 0,\n",
              " 'raining': 0,\n",
              " 'leather/suede': 0,\n",
              " 'envelope': 0,\n",
              " 'family': 0,\n",
              " 'brands': 0,\n",
              " 'BUT': 0,\n",
              " 'Falling': 0,\n",
              " 'jobs': 0,\n",
              " 'pictures': 0,\n",
              " 'mother': 0,\n",
              " 'frame': 0,\n",
              " 'Covered': 0,\n",
              " 'contained': 0,\n",
              " 'beautiful': 0,\n",
              " 'cools': 0,\n",
              " 'cuter': 0,\n",
              " 'Normally': 0,\n",
              " 'spin': 0,\n",
              " 'pair': 0,\n",
              " 'get': 0,\n",
              " 'lux': 0,\n",
              " 'Spade': 0,\n",
              " 'plastic': 0,\n",
              " 'lettering': 0,\n",
              " 'hards': 0,\n",
              " 'movements': 0,\n",
              " 'beige': 0,\n",
              " 'adjusts': 0,\n",
              " 'either': 0,\n",
              " 'complain': 0,\n",
              " 'unable': 0,\n",
              " 'markets': 0,\n",
              " 'stone': 0,\n",
              " 'exercise': 0,\n",
              " 'cushiony': 0,\n",
              " 'throws': 0,\n",
              " 'Bigger': 0,\n",
              " 'rugged': 0,\n",
              " 'wellies/rain': 0,\n",
              " 'apartment': 0,\n",
              " 'underside': 0,\n",
              " 'presses': 0,\n",
              " 'dangerous': 0,\n",
              " 'nurse': 0,\n",
              " 'surface': 0,\n",
              " 'accessories': 0,\n",
              " 'compartments': 0,\n",
              " 'got': 0,\n",
              " 'pertaining': 0,\n",
              " 'specify': 0,\n",
              " 'dance': 0,\n",
              " 'event': 0,\n",
              " 'crevice': 0,\n",
              " 'what': 0,\n",
              " 'Sketchers': 0,\n",
              " 'timely': 0,\n",
              " 'freakin': 0,\n",
              " 'Hunted': 0,\n",
              " 'tip': 0,\n",
              " 'flipflops': 0,\n",
              " 'Fine': 0,\n",
              " 'vibrant': 0,\n",
              " 'sent': 0,\n",
              " 'refund': 0,\n",
              " 'them': 0,\n",
              " 'phenomenal': 0,\n",
              " 'managed': 0,\n",
              " 'Metro': 0,\n",
              " 'stretches': 0,\n",
              " 'washing': 0,\n",
              " 'rope': 0,\n",
              " 'retractable': 0,\n",
              " 'Had': 0,\n",
              " 'unevenness': 0,\n",
              " 'AND': 0,\n",
              " 'lints': 0,\n",
              " 'Vionics': 0,\n",
              " 'skecher': 0,\n",
              " 'Sam': 0,\n",
              " 'insertion': 0,\n",
              " 'blacks': 0,\n",
              " 'Same': 0,\n",
              " 'thanks': 0,\n",
              " 'compliment': 0,\n",
              " 'preliminary': 0,\n",
              " 'about': 0,\n",
              " 'squeaking': 0,\n",
              " 'unusable': 0,\n",
              " 'office': 0,\n",
              " 'inserts': 0,\n",
              " 'incredible': 0,\n",
              " 'Also': 0,\n",
              " 'Fall': 0,\n",
              " 'regrets': 0,\n",
              " 'glove': 0,\n",
              " 'washer': 0,\n",
              " 'Olympic': 0,\n",
              " 'damage': 0,\n",
              " 'F': 0,\n",
              " 'Achilles': 0,\n",
              " 'any': 0,\n",
              " 'stretcher': 0,\n",
              " 'three': 0,\n",
              " 'clicks': 0,\n",
              " 'height': 0,\n",
              " 'dense': 0,\n",
              " 'strong': 0,\n",
              " 'spending': 0,\n",
              " 'guess': 0,\n",
              " 'flipflop': 0,\n",
              " 'bigquality': 0,\n",
              " 'Vans': 0,\n",
              " 'adjustable': 0,\n",
              " \"N'T\": 0,\n",
              " 'Boo': 0,\n",
              " 'redone': 0,\n",
              " 'Really': 0,\n",
              " 'year': 0,\n",
              " 'China': 0,\n",
              " 'dark': 0,\n",
              " 'continue': 0,\n",
              " 'AGAIN': 0,\n",
              " 'remove': 0,\n",
              " 'toe': 0,\n",
              " 'Veri': 0,\n",
              " '=': 0,\n",
              " 'saddles': 0,\n",
              " 'reflective': 0,\n",
              " 'Birthday': 0,\n",
              " 'picked': 0,\n",
              " 'tore': 0,\n",
              " 'realized': 0,\n",
              " 'pressure': 0,\n",
              " 'enclosed': 0,\n",
              " \"'nonslip\": 0,\n",
              " 'has': 0,\n",
              " 'Wowzaa': 0,\n",
              " 'instantly': 0,\n",
              " 'Renee': 0,\n",
              " 'grandson': 0,\n",
              " 'tempo': 0,\n",
              " 'washes': 0,\n",
              " 'understandable': 0,\n",
              " 'ad': 0,\n",
              " 'shopping': 0,\n",
              " 'flaking': 0,\n",
              " 'EXCELLENT': 0,\n",
              " 'live': 0,\n",
              " 'beds': 0,\n",
              " 'Returned': 0,\n",
              " 'forward': 0,\n",
              " 'Buy': 0,\n",
              " 'Godsend': 0,\n",
              " 'mark': 0,\n",
              " 'Sandals': 0,\n",
              " 'baby': 0,\n",
              " 'Danskos': 0,\n",
              " 'jeans': 0,\n",
              " 'flexibility': 0,\n",
              " 'locs': 0,\n",
              " 'manage': 0,\n",
              " 'br': 0,\n",
              " 'classics': 0,\n",
              " 'factory': 0,\n",
              " 'matte': 0,\n",
              " 'water': 0,\n",
              " 'recomend': 0,\n",
              " 'WORE': 0,\n",
              " 'grip': 0,\n",
              " 'my': 0,\n",
              " 'card': 0,\n",
              " 'granite': 0,\n",
              " 'gal': 0,\n",
              " 'outfits': 0,\n",
              " 'forefoot': 0,\n",
              " 'comparison': 0,\n",
              " 'struggle': 0,\n",
              " 'Boots': 0,\n",
              " 'dots/streaks': 0,\n",
              " 'purselove': 0,\n",
              " 'boyfriend': 0,\n",
              " 'GOOD': 0,\n",
              " 'At': 0,\n",
              " 'owner': 0,\n",
              " 'cracking': 0,\n",
              " 'gripe': 0,\n",
              " 'anymore': 0,\n",
              " 'require': 0,\n",
              " 'lie': 0,\n",
              " 'ASICS': 0,\n",
              " 'stripe': 0,\n",
              " 'incorrect': 0,\n",
              " 'exacting': 0,\n",
              " 'polarization': 0,\n",
              " 'gmailcom': 0,\n",
              " 'sighed': 0,\n",
              " 'mats': 0,\n",
              " 'than': 0,\n",
              " 'pleasurable': 0,\n",
              " 'Shipped': 0,\n",
              " 'ZERO': 0,\n",
              " 'heavy': 0,\n",
              " 'food': 0,\n",
              " 'z': 0,\n",
              " 'current': 0,\n",
              " 'finally': 0,\n",
              " 'sexy': 0,\n",
              " 'tons': 0,\n",
              " 'WONDERFUL': 0,\n",
              " 'meant': 0,\n",
              " 'smooth': 0,\n",
              " 'glasses': 0,\n",
              " 'BEING': 0,\n",
              " 'Or': 0,\n",
              " 'standing/walking': 0,\n",
              " 'competitive': 0,\n",
              " 'tortoiseshell': 0,\n",
              " 'sooooo': 0,\n",
              " 'flawshow': 0,\n",
              " 'rainboots': 0,\n",
              " 'stockings': 0,\n",
              " 'Wolverine': 0,\n",
              " 'pleasant': 0,\n",
              " 'S': 0,\n",
              " 'priced': 0,\n",
              " 'free': 0,\n",
              " 'times': 0,\n",
              " 'Navy': 0,\n",
              " 'showed': 0,\n",
              " 'rd': 0,\n",
              " 'Fun': 0,\n",
              " 'Lenses': 0,\n",
              " 'Tote': 0,\n",
              " 'ankles': 0,\n",
              " 'phone': 0,\n",
              " 'middle': 0,\n",
              " 'noggin': 0,\n",
              " 'inner': 0,\n",
              " 'Yellowstone': 0,\n",
              " 'Steve': 0,\n",
              " 'removal': 0,\n",
              " 'Canyon': 0,\n",
              " 'promptly': 0,\n",
              " 'Flexible': 0,\n",
              " 'chuck': 0,\n",
              " 'GI': 0,\n",
              " 'textile': 0,\n",
              " 'mostly': 0,\n",
              " 'stationary': 0,\n",
              " 'wedge': 0,\n",
              " 'Excellent': 0,\n",
              " 'leather': 0,\n",
              " 'opener': 0,\n",
              " 'descender': 0,\n",
              " 'sandle': 0,\n",
              " 'Versatile': 0,\n",
              " 'wider': 0,\n",
              " 'fluffy': 0,\n",
              " 'bones': 0,\n",
              " 'deserve': 0,\n",
              " 'dependable': 0,\n",
              " 'MATTE': 0,\n",
              " 'bedroom': 0,\n",
              " 'possibly': 0,\n",
              " 'attribute': 0,\n",
              " 'lightening': 0,\n",
              " 'history': 0,\n",
              " 'recently': 0,\n",
              " 'evening': 0,\n",
              " 'probably': 0,\n",
              " 'antimicrobial': 0,\n",
              " 'anxious': 0,\n",
              " 'aound': 0,\n",
              " 'adult': 0,\n",
              " 'canvas': 0,\n",
              " 'urine': 0,\n",
              " 'night': 0,\n",
              " 'noflexibility': 0,\n",
              " 'BUYING': 0,\n",
              " 'Which': 0,\n",
              " 'sizenot': 0,\n",
              " 'contemplating': 0,\n",
              " 'Large': 0,\n",
              " 'modern': 0,\n",
              " 'aging': 0,\n",
              " 'Naturalizers': 0,\n",
              " 'construction': 0,\n",
              " 'coming': 0,\n",
              " 'beware': 0,\n",
              " 'brooks': 0,\n",
              " 'Kayano': 0,\n",
              " 'clothes': 0,\n",
              " 'Brown': 0,\n",
              " 'EVER': 0,\n",
              " 'regretted': 0,\n",
              " 'daughters': 0,\n",
              " 'Coral': 0,\n",
              " 'you': 0,\n",
              " 'sons': 0,\n",
              " 'fusha': 0,\n",
              " 'Timely': 0,\n",
              " 'hurting': 0,\n",
              " 'bonus': 0,\n",
              " 'scotch': 0,\n",
              " 'bc': 0,\n",
              " 'nicer': 0,\n",
              " 'love': 0,\n",
              " 'Bien': 0,\n",
              " 'DO': 0,\n",
              " 'ponder': 0,\n",
              " 'improves': 0,\n",
              " 'rare': 0,\n",
              " 'stink': 0,\n",
              " 'durable': 0,\n",
              " 'hrs': 0,\n",
              " 'told': 0,\n",
              " 'happens': 0,\n",
              " 'fan': 0,\n",
              " 'reviewer': 0,\n",
              " 'flush': 0,\n",
              " 'heeled': 0,\n",
              " 'regularly': 0,\n",
              " 'production': 0,\n",
              " 'stock': 0,\n",
              " 'professional': 0,\n",
              " 'during': 0,\n",
              " 'nicely': 0,\n",
              " 'Cheap': 0,\n",
              " 'an': 0,\n",
              " 'OHHH': 0,\n",
              " 'splurge': 0,\n",
              " 'keeps': 0,\n",
              " 'estimated': 0,\n",
              " 'timbs': 0,\n",
              " 'set': 0,\n",
              " 'inbetween': 0,\n",
              " 'adding': 0,\n",
              " 'rainbows': 0,\n",
              " 'knows': 0,\n",
              " 'appears': 0,\n",
              " 'shop': 0,\n",
              " 'books': 0,\n",
              " 'lab': 0,\n",
              " 'Jambu': 0,\n",
              " 'spots': 0,\n",
              " 'screenshot': 0,\n",
              " 'We': 0,\n",
              " 'Mu': 0,\n",
              " 'flaw': 0,\n",
              " 'noticed': 0,\n",
              " 'dont': 0,\n",
              " 'instructions': 0,\n",
              " 'Their': 0,\n",
              " 'hands': 0,\n",
              " 'sunlight': 0,\n",
              " 'THANK': 0,\n",
              " 'logo': 0,\n",
              " 'choose': 0,\n",
              " 'pillows': 0,\n",
              " 'Thorogood': 0,\n",
              " 'transport': 0,\n",
              " 'cosplay': 0,\n",
              " 'everyone': 0,\n",
              " 'jog': 0,\n",
              " 'Its': 0,\n",
              " 'navy': 0,\n",
              " 'lights': 0,\n",
              " 'adds': 0,\n",
              " 'theses': 0,\n",
              " 'Sun': 0,\n",
              " 'Spain': 0,\n",
              " 'couldnt': 0,\n",
              " 'goodbye': 0,\n",
              " 'packs': 0,\n",
              " 'returning': 0,\n",
              " 'SUNGLASSES': 0,\n",
              " 'Suede': 0,\n",
              " 'dow': 0,\n",
              " 'daily': 0,\n",
              " 'carried': 0,\n",
              " 'most': 0,\n",
              " 'often': 0,\n",
              " 'previously': 0,\n",
              " 'Blundstones': 0,\n",
              " 'fill': 0,\n",
              " 'brownish': 0,\n",
              " 'Fearful': 0,\n",
              " 'As': 0,\n",
              " 'bad': 0,\n",
              " 'grader': 0,\n",
              " 'anyway': 0,\n",
              " 'COMING': 0,\n",
              " 'TjMax': 0,\n",
              " 'mirror': 0,\n",
              " 'sleeve': 0,\n",
              " 'pointed': 0,\n",
              " 'chose': 0,\n",
              " 'Crocs': 0,\n",
              " 'pickup': 0,\n",
              " 'explained': 0,\n",
              " 'zoo': 0,\n",
              " 'average': 0,\n",
              " 'inexpensive': 0,\n",
              " 'stinks': 0,\n",
              " 'judgement': 0,\n",
              " 'due': 0,\n",
              " 'BEDJXS': 0,\n",
              " 'coating': 0,\n",
              " 'MAYBE': 0,\n",
              " 'married': 0,\n",
              " 'odered': 0,\n",
              " 'sooner': 0,\n",
              " 'handsome': 0,\n",
              " 'difficult': 0,\n",
              " 'word': 0,\n",
              " 'lump': 0,\n",
              " 'purchase': 0,\n",
              " 'saves': 0,\n",
              " 'wetted': 0,\n",
              " 'freaked': 0,\n",
              " 'flats': 0,\n",
              " 'vendors': 0,\n",
              " 'GoreTex': 0,\n",
              " 'bamboo': 0,\n",
              " 'Gucci': 0,\n",
              " 'zero': 0,\n",
              " 'Coffee': 0,\n",
              " 'sweat': 0,\n",
              " 'they': 0,\n",
              " 'Can': 0,\n",
              " 'diagnosed': 0,\n",
              " 'By': 0,\n",
              " 'NEUROPATHY': 0,\n",
              " 'waste': 0,\n",
              " 'packaged': 0,\n",
              " 'awesome': 0,\n",
              " 'reason': 0,\n",
              " 'regards': 0,\n",
              " 'rise': 0,\n",
              " 'harsh': 0,\n",
              " 'earliest': 0,\n",
              " 'lace': 0,\n",
              " 'injured': 0,\n",
              " 'Could': 0,\n",
              " 'products': 0,\n",
              " 'apprehensive': 0,\n",
              " 'elementary': 0,\n",
              " 'totally': 0,\n",
              " 'rapid': 0,\n",
              " 'rip': 0,\n",
              " 'booths': 0,\n",
              " 'strongly': 0,\n",
              " 'slight': 0,\n",
              " 'donate': 0,\n",
              " '%': 0,\n",
              " 'fist': 0,\n",
              " 'Slipping': 0,\n",
              " 'VEGAN': 0,\n",
              " 'Relatively': 0,\n",
              " 'Please': 0,\n",
              " 'slippers': 0,\n",
              " 'morning': 0,\n",
              " 'bass': 0,\n",
              " 'raspberry': 0,\n",
              " 'Shipping': 0,\n",
              " 'HIKING': 0,\n",
              " 'worked': 0,\n",
              " 'addidas': 0,\n",
              " 'pile': 0,\n",
              " 'photous=europe': 0,\n",
              " 'elegant': 0,\n",
              " 'authentic': 0,\n",
              " 'Kahana': 0,\n",
              " 'minimal': 0,\n",
              " 'exactly': 0,\n",
              " 'seat': 0,\n",
              " 'crack': 0,\n",
              " 'tights': 0,\n",
              " 'ocassional': 0,\n",
              " 'dug': 0,\n",
              " 'puttering': 0,\n",
              " 'mud/water': 0,\n",
              " 'Took': 0,\n",
              " 'Wedge': 0,\n",
              " 'workwear': 0,\n",
              " 'bragging': 0,\n",
              " 'taking': 0,\n",
              " 'ugly': 0,\n",
              " 'flawlessly': 0,\n",
              " 'including': 0,\n",
              " 'situations': 0,\n",
              " 'fantastic': 0,\n",
              " 'football': 0,\n",
              " 'Brooks': 0,\n",
              " 'THANKS': 0,\n",
              " 'bv': 0,\n",
              " 'happy': 0,\n",
              " 'Worn': 0,\n",
              " 'Reebok': 0,\n",
              " 'slipon': 0,\n",
              " 'fitness': 0,\n",
              " 'fear': 0,\n",
              " 'however': 0,\n",
              " 'came': 0,\n",
              " 'hell': 0,\n",
              " 'modest': 0,\n",
              " 'burn': 0,\n",
              " 'step': 0,\n",
              " 'Score': 0,\n",
              " 'ons': 0,\n",
              " 'sizeup': 0,\n",
              " 'warmed': 0,\n",
              " 'July': 0,\n",
              " 'Patrol': 0,\n",
              " 'store': 0,\n",
              " 'Leather': 0,\n",
              " 'Ban': 0,\n",
              " 'BackPack': 0,\n",
              " 'themselves': 0,\n",
              " 'coop': 0,\n",
              " 'DID': 0,\n",
              " 'High': 0,\n",
              " 'released': 0,\n",
              " 'laced': 0,\n",
              " 'Started': 0,\n",
              " 'Consistency': 0,\n",
              " 'experience': 0,\n",
              " 'WAS': 0,\n",
              " 'trusted': 0,\n",
              " 'met': 0,\n",
              " 'constraint': 0,\n",
              " 'Adidas': 0,\n",
              " 'feels': 0,\n",
              " 'repeated': 0,\n",
              " 'bueno': 0,\n",
              " 'LOVES': 0,\n",
              " 'lucked': 0,\n",
              " 'read': 0,\n",
              " 'carrying': 0,\n",
              " 'Rite': 0,\n",
              " 'spare': 0,\n",
              " 'forma': 0,\n",
              " 'notification': 0,\n",
              " 'visited': 0,\n",
              " 'daughterinlaw': 0,\n",
              " 'WIll': 0,\n",
              " 'clock': 0,\n",
              " 'greenhouse': 0,\n",
              " 'large': 0,\n",
              " 'correct': 0,\n",
              " 'Womens': 0,\n",
              " 'TWICE': 0,\n",
              " 'wrong': 0,\n",
              " 'mixed': 0,\n",
              " 'York': 0,\n",
              " '?': 0,\n",
              " \"'ve\": 0,\n",
              " 'calf': 0,\n",
              " 'midway': 0,\n",
              " 'Reasonably': 0,\n",
              " 'hug': 0,\n",
              " 'anticipate': 0,\n",
              " 'barbell': 0,\n",
              " 'dentists': 0,\n",
              " 'whatever': 0,\n",
              " 'buses': 0,\n",
              " 'framed': 0,\n",
              " 'attractive': 0,\n",
              " 'grinning': 0,\n",
              " 'disappear': 0,\n",
              " 'it': 0,\n",
              " 'beauty': 0,\n",
              " 'cost': 0,\n",
              " 'SInce': 0,\n",
              " 'EE': 0,\n",
              " 'T': 0,\n",
              " 'Price': 0,\n",
              " 'u': 0,\n",
              " 'security': 0,\n",
              " 'Sweet': 0,\n",
              " 'show': 0,\n",
              " 'barefoot': 0,\n",
              " 'for': 0,\n",
              " 'Jenna': 0,\n",
              " 'hill': 0,\n",
              " 'foam': 0,\n",
              " 'courts': 0,\n",
              " 'backside': 0,\n",
              " 'Fotos': 0,\n",
              " 'full': 0,\n",
              " 'chicken': 0,\n",
              " 'funny': 0,\n",
              " 'restrooms': 0,\n",
              " 'quicker': 0,\n",
              " 'Promt': 0,\n",
              " 'mismarked': 0,\n",
              " 'adults': 0,\n",
              " 'unstuck': 0,\n",
              " 'Foot': 0,\n",
              " 'intensive': 0,\n",
              " 'CHANGED': 0,\n",
              " 'Chosen': 0,\n",
              " 'ground': 0,\n",
              " 'emailed': 0,\n",
              " 'Awsome': 0,\n",
              " 'NEVER': 0,\n",
              " 'willing': 0,\n",
              " 'thousands': 0,\n",
              " 'African': 0,\n",
              " 'die': 0,\n",
              " 'rotate': 0,\n",
              " 'friends': 0,\n",
              " 'everywhere': 0,\n",
              " 'approach': 0,\n",
              " \"didn't\": 0,\n",
              " 'purple': 0,\n",
              " 'fallen': 0,\n",
              " 'speared': 0,\n",
              " 'reg': 0,\n",
              " 'exterior': 0,\n",
              " 'Instead': 0,\n",
              " 'swollen': 0,\n",
              " 'trigger': 0,\n",
              " 'smallso': 0,\n",
              " 'broke': 0,\n",
              " 'soccer': 0,\n",
              " 'detracts': 0,\n",
              " 'lashes': 0,\n",
              " 'wise': 0,\n",
              " 'Hugs': 0,\n",
              " 'dept': 0,\n",
              " 'adequate': 0,\n",
              " 'wearings': 0,\n",
              " 'proved': 0,\n",
              " 'figured': 0,\n",
              " 'allow': 0,\n",
              " 'exercising': 0,\n",
              " 'Lite': 0,\n",
              " 'EXCHANGE': 0,\n",
              " 'dreary': 0,\n",
              " 'flinging': 0,\n",
              " 'ans': 0,\n",
              " 'supported': 0,\n",
              " 'stretching': 0,\n",
              " 'lightweight': 0,\n",
              " 'shake': 0,\n",
              " 'Stretched': 0,\n",
              " 'spread': 0,\n",
              " 'cute': 0,\n",
              " 'tecnically': 0,\n",
              " 'child/toddler': 0,\n",
              " 'mm': 0,\n",
              " 'scheduled': 0,\n",
              " 'Fits': 0,\n",
              " 'ICU': 0,\n",
              " 'minimum': 0,\n",
              " 'USmade': 0,\n",
              " 'rezipped': 0,\n",
              " 'c': 0,\n",
              " 'why': 0,\n",
              " 'effectiveness': 0,\n",
              " 'notable': 0,\n",
              " 'MTV': 0,\n",
              " 'pump': 0,\n",
              " 'Eyewear': 0,\n",
              " 'lower': 0,\n",
              " 'deliver': 0,\n",
              " 'Hopefully': 0,\n",
              " 'MTVs': 0,\n",
              " 'doctor': 0,\n",
              " 'floods': 0,\n",
              " 'notebook': 0,\n",
              " 'kept': 0,\n",
              " 'sunglasses': 0,\n",
              " 'clear': 0,\n",
              " 'awhile': 0,\n",
              " 'One': 0,\n",
              " 'normal': 0,\n",
              " 'Asides': 0,\n",
              " 'clay': 0,\n",
              " 'difference': 0,\n",
              " 'Strap': 0,\n",
              " 'removing': 0,\n",
              " 'Yea': 0,\n",
              " 'cards': 0,\n",
              " 'walking': 0,\n",
              " 'Keens': 0,\n",
              " 'Aside': 0,\n",
              " 'Theyre': 0,\n",
              " 'grab': 0,\n",
              " 'Wearing': 0,\n",
              " 'wasnt': 0,\n",
              " 'backlit': 0,\n",
              " 'Balance': 0,\n",
              " 'sending': 0,\n",
              " 'LOVE': 0,\n",
              " 'retired': 0,\n",
              " 'sizei': 0,\n",
              " 'A': 0,\n",
              " 'schedule': 0,\n",
              " 'My': 0,\n",
              " 'shocked': 0,\n",
              " 'walkaround': 0,\n",
              " 'INCREDIBLY': 0,\n",
              " 'Design': 0,\n",
              " 'opposite': 0,\n",
              " 'Danner': 0,\n",
              " 'review': 0,\n",
              " 'Width': 0,\n",
              " 'consistently': 0,\n",
              " 'warm': 0,\n",
              " 'sz': 0,\n",
              " 'earlier': 0,\n",
              " 'unavailable': 0,\n",
              " 'ice': 0,\n",
              " 'calves': 0,\n",
              " 'BOOTS': 0,\n",
              " 'shipment': 0,\n",
              " 'zipper': 0,\n",
              " 'cold': 0,\n",
              " 'Billfish': 0,\n",
              " 'KIDS': 0,\n",
              " 'IMO': 0,\n",
              " 'suede': 0,\n",
              " 'until': 0,\n",
              " 'tent': 0,\n",
              " 'sporty': 0,\n",
              " 'don': 0,\n",
              " 'eye': 0,\n",
              " 'Need': 0,\n",
              " 'Keeping': 0,\n",
              " 'same': 0,\n",
              " 'fair': 0,\n",
              " 'excellente': 0,\n",
              " 'tweaked': 0,\n",
              " 'Royal': 0,\n",
              " 'ratings': 0,\n",
              " 'National': 0,\n",
              " \"'grounding\": 0,\n",
              " 'gifts': 0,\n",
              " 'winter': 0,\n",
              " 'FROM': 0,\n",
              " 'annoy': 0,\n",
              " 'Cheaply': 0,\n",
              " 'even': 0,\n",
              " 'USE': 0,\n",
              " 'caused': 0,\n",
              " 'structure': 0,\n",
              " 'this': 0,\n",
              " 'constant': 0,\n",
              " 'pay': 0,\n",
              " 'Ffrench': 0,\n",
              " 'rubbery': 0,\n",
              " 'ready': 0,\n",
              " 'eh': 0,\n",
              " 'WOW': 0,\n",
              " 'been': 0,\n",
              " 'easy': 0,\n",
              " 'replace': 0,\n",
              " 'gold': 0,\n",
              " 'be': 0,\n",
              " 'cleats': 0,\n",
              " 'playground': 0,\n",
              " 'spikes': 0,\n",
              " 'american': 0,\n",
              " 'rugs': 0,\n",
              " 'styles': 0,\n",
              " 'literally': 0,\n",
              " 'type': 0,\n",
              " 'produced': 0,\n",
              " 'stability': 0,\n",
              " 'compartment': 0,\n",
              " 'Packaging': 0,\n",
              " 'fifth': 0,\n",
              " 'wipe': 0,\n",
              " 'Keds': 0,\n",
              " 'ones': 0,\n",
              " 'regular': 0,\n",
              " 'critical': 0,\n",
              " 'activity': 0,\n",
              " 'classy': 0,\n",
              " '[': 0,\n",
              " 'continues': 0,\n",
              " 'strength': 0,\n",
              " 'faster': 0,\n",
              " 'FOR': 0,\n",
              " 'MY': 0,\n",
              " 'Exactly': 0,\n",
              " '👌👌': 0,\n",
              " 'Beautiful': 0,\n",
              " 'clothing': 0,\n",
              " 'given': 0,\n",
              " 'pass': 0,\n",
              " 'else': 0,\n",
              " 'halfexpected': 0,\n",
              " 'complaintbeen': 0,\n",
              " 'crossed': 0,\n",
              " 'bastante': 0,\n",
              " 'overprobation': 0,\n",
              " 'Style': 0,\n",
              " 'Finn': 0,\n",
              " 'slightly': 0,\n",
              " 'win': 0,\n",
              " 'yeas': 0,\n",
              " 'sure': 0,\n",
              " 'reef': 0,\n",
              " 'shoddy': 0,\n",
              " 'fall/winter': 0,\n",
              " 'shearing': 0,\n",
              " 'tassles': 0,\n",
              " 'account': 0,\n",
              " 'drag': 0,\n",
              " \"'\": 0,\n",
              " 'comfortably': 0,\n",
              " 'remorse': 0,\n",
              " 'pretty': 0,\n",
              " 'slippery': 0,\n",
              " 'Runs': 0,\n",
              " 'Goodnight': 0,\n",
              " 'Indian': 0,\n",
              " 'in': 0,\n",
              " 'tightness': 0,\n",
              " 'moving': 0,\n",
              " 'brings': 0,\n",
              " '***': 0,\n",
              " 'equally': 0,\n",
              " 'use': 0,\n",
              " 'NB': 0,\n",
              " 'guide': 0,\n",
              " 'shifted': 0,\n",
              " 'Luckily': 0,\n",
              " 'galoshes': 0,\n",
              " 'Cat': 0,\n",
              " 'clowns': 0,\n",
              " 'on': 0,\n",
              " 'besides': 0,\n",
              " 'somewhat': 0,\n",
              " 'gardening': 0,\n",
              " 'Striking': 0,\n",
              " 'reciews': 0,\n",
              " 'creates': 0,\n",
              " 'Awesome': 0,\n",
              " 'somehow': 0,\n",
              " 'period': 0,\n",
              " ']': 0,\n",
              " 'Sturdy': 0,\n",
              " \"'S\": 0,\n",
              " 'genuine': 0,\n",
              " 'fields': 0,\n",
              " 'picture': 0,\n",
              " 'coin': 0,\n",
              " 'unexpected': 0,\n",
              " 'patients': 0,\n",
              " 'heel': 0,\n",
              " 'Sanuks': 0,\n",
              " 'khaki': 0,\n",
              " 'comment': 0,\n",
              " 'restful': 0,\n",
              " 'locally': 0,\n",
              " 'hav': 0,\n",
              " 'check': 0,\n",
              " 'MORE': 0,\n",
              " 'dream': 0,\n",
              " 'Onex': 0,\n",
              " 'pullon': 0,\n",
              " 'Just': 0,\n",
              " 'separates': 0,\n",
              " 'cheer': 0,\n",
              " 'suctions': 0,\n",
              " 'frustrated': 0,\n",
              " 'True': 0,\n",
              " 'preferred': 0,\n",
              " 'leg': 0,\n",
              " 'DRY': 0,\n",
              " 'suits': 0,\n",
              " 'quite': 0,\n",
              " '♥️': 0,\n",
              " 'Again': 0,\n",
              " 'headlights': 0,\n",
              " 'bridesmaid': 0,\n",
              " 'something': 0,\n",
              " 'sandals/shoes': 0,\n",
              " 'fairness': 0,\n",
              " 'Duchess': 0,\n",
              " 'value': 0,\n",
              " 'appear': 0,\n",
              " 'Wears': 0,\n",
              " 'NARROW': 0,\n",
              " 'sturdier': 0,\n",
              " 'accessory': 0,\n",
              " 'tournament': 0,\n",
              " 'waking': 0,\n",
              " 'following': 0,\n",
              " 'vendor': 0,\n",
              " 'surgery': 0,\n",
              " 'contact': 0,\n",
              " 'limping': 0,\n",
              " 'trifold': 0,\n",
              " 'sneakers': 0,\n",
              " 'accustomed': 0,\n",
              " 'miss': 0,\n",
              " 'prettier': 0,\n",
              " 'hopefully': 0,\n",
              " 'crafted': 0,\n",
              " 'Comfort': 0,\n",
              " 'threw': 0,\n",
              " 'Sharp': 0,\n",
              " 'error': 0,\n",
              " 'women': 0,\n",
              " 'silly': 0,\n",
              " 'displace': 0,\n",
              " 'GETTING': 0,\n",
              " 'dryer': 0,\n",
              " 'day/': 0,\n",
              " 'asolo': 0,\n",
              " 'their': 0,\n",
              " 'pounds': 0,\n",
              " 'keeping': 0,\n",
              " 'towards': 0,\n",
              " 'best': 0,\n",
              " 'manly': 0,\n",
              " 'timeThey': 0,\n",
              " 'quibbles': 0,\n",
              " 'had': 0,\n",
              " 'close': 0,\n",
              " 'To': 0,\n",
              " 'slick': 0,\n",
              " 'seams': 0,\n",
              " 'fitter': 0,\n",
              " 'Rica': 0,\n",
              " 'downside': 0,\n",
              " 'linoleum': 0,\n",
              " 'nudes': 0,\n",
              " 'duplex': 0,\n",
              " 'truly': 0,\n",
              " 'Personally': 0,\n",
              " 'boots': 0,\n",
              " 'soles/cleats': 0,\n",
              " \"'d\": 0,\n",
              " 'believe': 0,\n",
              " 'Works': 0,\n",
              " 'velcro': 0,\n",
              " 'discovered': 0,\n",
              " 'babes': 0,\n",
              " 'surfaces': 0,\n",
              " 'Received': 0,\n",
              " 'pinched': 0,\n",
              " 'Morgannueroma': 0,\n",
              " 'together': 0,\n",
              " 'zip': 0,\n",
              " 'COLORS': 0,\n",
              " 'described': 0,\n",
              " 'competitor': 0,\n",
              " 'Chacos': 0,\n",
              " 'KIND': 0,\n",
              " 'comes': 0,\n",
              " 'Ecco': 0,\n",
              " 'dressey': 0,\n",
              " 'grew': 0,\n",
              " 'REALIZE': 0,\n",
              " 'vision': 0,\n",
              " 'molds': 0,\n",
              " 'tromping': 0,\n",
              " 'clutch': 0,\n",
              " 'giving': 0,\n",
              " 'exercises': 0,\n",
              " 'behind': 0,\n",
              " 'loss': 0,\n",
              " 'german': 0,\n",
              " 'Sure': 0,\n",
              " 'interior': 0,\n",
              " 'Bush': 0,\n",
              " 'othropedic': 0,\n",
              " 'reviewers': 0,\n",
              " 'upcoming': 0,\n",
              " 'tape': 0,\n",
              " 'true': 0,\n",
              " 'keep': 0,\n",
              " 'fitflops': 0,\n",
              " 'memory': 0,\n",
              " 'Adaorable': 0,\n",
              " 'dirt': 0,\n",
              " 'haul': 0,\n",
              " 'forget': 0,\n",
              " 'Mom': 0,\n",
              " 'per': 0,\n",
              " 'heaven': 0,\n",
              " 'Things': 0,\n",
              " 'puddles': 0,\n",
              " '<': 0,\n",
              " 'Looked': 0,\n",
              " 'preference': 0,\n",
              " 'Portugal': 0,\n",
              " 'tracking': 0,\n",
              " 'large/too': 0,\n",
              " 'looks': 0,\n",
              " '&': 0,\n",
              " 'utility': 0,\n",
              " 'workout': 0,\n",
              " ...}"
            ]
          },
          "metadata": {
            "tags": []
          },
          "execution_count": 138
        }
      ]
    },
    {
      "cell_type": "code",
      "metadata": {
        "id": "wP-bv3mUdaHK",
        "colab_type": "code",
        "colab": {}
      },
      "source": [
        "\n",
        "for words in review_tokens[4]:\n",
        "  wordDict[words]+=1"
      ],
      "execution_count": 0,
      "outputs": []
    },
    {
      "cell_type": "code",
      "metadata": {
        "id": "V7urHZI3d0SY",
        "colab_type": "code",
        "colab": {
          "base_uri": "https://localhost:8080/",
          "height": 35
        },
        "outputId": "374265df-82c6-47c4-8cfa-3ef49c8f0b0c"
      },
      "source": [
        "wordDict['small']"
      ],
      "execution_count": 143,
      "outputs": [
        {
          "output_type": "execute_result",
          "data": {
            "text/plain": [
              "1"
            ]
          },
          "metadata": {
            "tags": []
          },
          "execution_count": 143
        }
      ]
    },
    {
      "cell_type": "code",
      "metadata": {
        "id": "jlVHouyCeqox",
        "colab_type": "code",
        "colab": {}
      },
      "source": [
        ""
      ],
      "execution_count": 0,
      "outputs": []
    }
  ]
}