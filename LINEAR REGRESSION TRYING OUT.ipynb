{
 "cells": [
  {
   "cell_type": "code",
   "execution_count": 44,
   "metadata": {},
   "outputs": [
    {
     "name": "stdout",
     "output_type": "stream",
     "text": [
      "(4, 4)\n"
     ]
    },
    {
     "data": {
      "text/html": [
       "<div>\n",
       "<style scoped>\n",
       "    .dataframe tbody tr th:only-of-type {\n",
       "        vertical-align: middle;\n",
       "    }\n",
       "\n",
       "    .dataframe tbody tr th {\n",
       "        vertical-align: top;\n",
       "    }\n",
       "\n",
       "    .dataframe thead th {\n",
       "        text-align: right;\n",
       "    }\n",
       "</style>\n",
       "<table border=\"1\" class=\"dataframe\">\n",
       "  <thead>\n",
       "    <tr style=\"text-align: right;\">\n",
       "      <th></th>\n",
       "      <th>PRICE</th>\n",
       "      <th>TAKER</th>\n",
       "      <th>HIT</th>\n",
       "      <th>REV</th>\n",
       "    </tr>\n",
       "  </thead>\n",
       "  <tbody>\n",
       "    <tr>\n",
       "      <th>0</th>\n",
       "      <td>38</td>\n",
       "      <td>758776</td>\n",
       "      <td>1381182</td>\n",
       "      <td>123223433</td>\n",
       "    </tr>\n",
       "    <tr>\n",
       "      <th>1</th>\n",
       "      <td>41</td>\n",
       "      <td>1538989</td>\n",
       "      <td>4244433</td>\n",
       "      <td>427234747</td>\n",
       "    </tr>\n",
       "    <tr>\n",
       "      <th>2</th>\n",
       "      <td>44</td>\n",
       "      <td>8201194</td>\n",
       "      <td>41199624</td>\n",
       "      <td>1858638702</td>\n",
       "    </tr>\n",
       "    <tr>\n",
       "      <th>3</th>\n",
       "      <td>48</td>\n",
       "      <td>7190296</td>\n",
       "      <td>30471660</td>\n",
       "      <td>1405751110</td>\n",
       "    </tr>\n",
       "  </tbody>\n",
       "</table>\n",
       "</div>"
      ],
      "text/plain": [
       "    PRICE    TAKER       HIT         REV \n",
       "0       38   758776   1381182   123223433\n",
       "1       41  1538989   4244433   427234747\n",
       "2       44  8201194  41199624  1858638702\n",
       "3       48  7190296  30471660  1405751110"
      ]
     },
     "execution_count": 44,
     "metadata": {},
     "output_type": "execute_result"
    }
   ],
   "source": [
    "%matplotlib inline\n",
    "import numpy as np\n",
    "import pandas as pd\n",
    "import matplotlib.pyplot as plt\n",
    "plt.rcParams['figure.figsize'] = (10.0,5.0)\n",
    "\n",
    "#Reading Data\n",
    "data = pd.read_csv('trying out table.csv')\n",
    "print(data.shape)\n",
    "\n",
    "data.head()"
   ]
  },
  {
   "cell_type": "code",
   "execution_count": 19,
   "metadata": {},
   "outputs": [
    {
     "name": "stdout",
     "output_type": "stream",
     "text": [
      "Index([' PRICE ', ' TAKER ', ' HIT ', ' REV '], dtype='object')\n"
     ]
    }
   ],
   "source": [
    "print(data.columns)"
   ]
  },
  {
   "cell_type": "code",
   "execution_count": 42,
   "metadata": {},
   "outputs": [],
   "source": [
    "#collecting X and Y\n",
    "X = data[' PRICE '].values\n",
    "Y = data[' TAKER '].values"
   ]
  },
  {
   "cell_type": "code",
   "execution_count": 45,
   "metadata": {},
   "outputs": [
    {
     "name": "stdout",
     "output_type": "stream",
     "text": [
      "Numerator: 41703129.75\n",
      "Denomirator: 54.75\n",
      "761701.0 -28140404.0\n"
     ]
    },
    {
     "data": {
      "image/png": "[encoded data removed]",
      "text/plain": [
       "<Figure size 720x360 with 1 Axes>"
      ]
     },
     "metadata": {
      "needs_background": "light"
     },
     "output_type": "display_data"
    }
   ],
   "source": [
    "#Mean X and Y\n",
    "mean_X = np.mean(X)\n",
    "mean_Y = np.mean(Y)\n",
    "\n",
    "#Total number of values\n",
    "n = len(X)\n",
    "\n",
    "#using the foluma to calculate m and c\n",
    "numer = 0\n",
    "denom = 0\n",
    "\n",
    "for i in range(n):\n",
    "    numer += (X[i] - mean_X) * (Y[i] - mean_Y)\n",
    "    denom += (X[i] - mean_X) ** 2\n",
    "    \n",
    "print('Numerator:',numer)\n",
    "print('Denomirator:',denom)\n",
    "\n",
    "b1 = numer / denom\n",
    "b0 = mean_Y - (b1 * mean_X)\n",
    "\n",
    "#printing the slope and coefficient\n",
    "print(b1,b0)\n",
    "\n",
    "plt.scatter(X,Y,color = 'm', marker = 'o', s =30)\n",
    "Y_pred = b0 + b1*X\n",
    "\n",
    "plt.plot(X,Y_pred, color='g')\n",
    "\n",
    "plt.xlabel('Price')\n",
    "plt.ylabel('Taker')\n",
    "\n",
    "plt.show()"
   ]
  }
 ],
 "metadata": {
  "kernelspec": {
   "display_name": "Python 3",
   "language": "python",
   "name": "python3"
  },
  "language_info": {
   "codemirror_mode": {
    "name": "ipython",
    "version": 3
   },
   "file_extension": ".py",
   "mimetype": "text/x-python",
   "name": "python",
   "nbconvert_exporter": "python",
   "pygments_lexer": "ipython3",
   "version": "3.7.3"
  }
 },
 "nbformat": 4,
 "nbformat_minor": 2
}
